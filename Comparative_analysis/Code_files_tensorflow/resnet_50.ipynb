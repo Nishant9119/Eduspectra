{
  "nbformat": 4,
  "nbformat_minor": 0,
  "metadata": {
    "colab": {
      "provenance": [],
      "gpuType": "A100"
    },
    "kernelspec": {
      "name": "python3",
      "display_name": "Python 3"
    },
    "language_info": {
      "name": "python"
    },
    "accelerator": "GPU"
  },
  "cells": [
    {
      "cell_type": "code",
      "execution_count": null,
      "metadata": {
        "id": "0zk2pbDrxk3r"
      },
      "outputs": [],
      "source": [
        "import tensorflow as tf\n",
        "from tensorflow import keras\n",
        "from keras import layers\n",
        "from keras.utils import image_dataset_from_directory\n",
        "import matplotlib.pyplot as plt\n",
        "import zipfile\n",
        "from keras.metrics import Precision,Recall\n",
        "from tensorflow.keras.callbacks import ModelCheckpoint, EarlyStopping\n"
      ]
    },
    {
      "cell_type": "markdown",
      "source": [],
      "metadata": {
        "id": "rwnE0qi0PsJW"
      }
    },
    {
      "cell_type": "code",
      "source": [
        "with zipfile.ZipFile(\"/content/Dataset.zip\", 'r') as zip_ref:\n",
        "    zip_ref.extractall(\"Dataset\")"
      ],
      "metadata": {
        "id": "oIbr3Ohuxw-l"
      },
      "execution_count": null,
      "outputs": []
    },
    {
      "cell_type": "code",
      "source": [
        "test_data = image_dataset_from_directory(\"/content/Dataset/Dataset/Test\",image_size = (224,224),batch_size = 128*2)\n"
      ],
      "metadata": {
        "colab": {
          "base_uri": "https://localhost:8080/"
        },
        "id": "AJFOpvqwxzoj",
        "outputId": "23cb37a7-4682-4dc5-f495-7e44fdc92dc0"
      },
      "execution_count": null,
      "outputs": [
        {
          "output_type": "stream",
          "name": "stdout",
          "text": [
            "Found 80362 files belonging to 2 classes.\n"
          ]
        }
      ]
    },
    {
      "cell_type": "code",
      "source": [
        "train_data = image_dataset_from_directory(\"/content/Dataset/Dataset/Train\",image_size = (224,224),batch_size = 50)\n"
      ],
      "metadata": {
        "colab": {
          "base_uri": "https://localhost:8080/"
        },
        "id": "5l-pX4uVx2Mb",
        "outputId": "0fd9d6e8-2e19-47e8-d205-fa294d0e7941"
      },
      "execution_count": null,
      "outputs": [
        {
          "output_type": "stream",
          "name": "stdout",
          "text": [
            "Found 120542 files belonging to 2 classes.\n"
          ]
        }
      ]
    },
    {
      "cell_type": "code",
      "source": [
        "conv_base = tf.keras.applications.ResNet50(\n",
        "    include_top=False,\n",
        "    weights='imagenet'\n",
        ")\n",
        "conv_base.trainable = False"
      ],
      "metadata": {
        "colab": {
          "base_uri": "https://localhost:8080/"
        },
        "id": "SdTnFF6Bx45N",
        "outputId": "98c5b22c-d62a-4df6-b795-64c669a4e84c"
      },
      "execution_count": null,
      "outputs": [
        {
          "output_type": "stream",
          "name": "stdout",
          "text": [
            "Downloading data from https://storage.googleapis.com/tensorflow/keras-applications/resnet/resnet50_weights_tf_dim_ordering_tf_kernels_notop.h5\n",
            "\u001b[1m94765736/94765736\u001b[0m \u001b[32m━━━━━━━━━━━━━━━━━━━━\u001b[0m\u001b[37m\u001b[0m \u001b[1m6s\u001b[0m 0us/step\n"
          ]
        }
      ]
    },
    {
      "cell_type": "code",
      "source": [
        "inputs = keras.Input(shape = (224,224,3))\n",
        "x = keras.applications.resnet50.preprocess_input(inputs)\n",
        "x = conv_base(x)\n",
        "x = layers.Flatten()(x)\n",
        "x = layers.Dense(256,activation = \"relu\")(x)\n",
        "x = layers.Dense(128,activation = \"relu\")(x)\n",
        "x  =layers.BatchNormalization()(x)\n",
        "x = layers.Dropout(0.3)(x)\n",
        "outputs = layers.Dense(1,activation = \"sigmoid\")(x)\n",
        "model  = keras.Model(inputs = inputs,outputs = outputs)"
      ],
      "metadata": {
        "id": "UQh4RQpqx76h"
      },
      "execution_count": null,
      "outputs": []
    },
    {
      "cell_type": "code",
      "source": [
        "model.compile(optimizer=\"adam\" ,loss =\"binary_crossentropy\",metrics =[\"accuracy\", Precision(name='precision'), Recall(name='recall')])"
      ],
      "metadata": {
        "id": "bnErji7dx-sP"
      },
      "execution_count": null,
      "outputs": []
    },
    {
      "cell_type": "code",
      "source": [
        "earlystop_cb = EarlyStopping(\n",
        "    monitor='loss',\n",
        "    patience=5,              # Wait for 5 epochs without improvement\n",
        "    restore_best_weights=True,  # Load best weights after stopping\n",
        "    verbose=1\n",
        ")"
      ],
      "metadata": {
        "id": "kkWtMZoLPlbp"
      },
      "execution_count": null,
      "outputs": []
    },
    {
      "cell_type": "code",
      "source": [
        "model.fit(train_data,epochs = 50,callbacks = [earlystop_cb])\n"
      ],
      "metadata": {
        "colab": {
          "base_uri": "https://localhost:8080/"
        },
        "id": "Hyptn6N_yCCZ",
        "outputId": "e935201a-bfc6-4eec-a765-34ff8c3fbcac"
      },
      "execution_count": null,
      "outputs": [
        {
          "output_type": "stream",
          "name": "stdout",
          "text": [
            "Epoch 1/50\n",
            "\u001b[1m2411/2411\u001b[0m \u001b[32m━━━━━━━━━━━━━━━━━━━━\u001b[0m\u001b[37m\u001b[0m \u001b[1m74s\u001b[0m 26ms/step - accuracy: 0.8540 - loss: 0.3838 - precision: 0.6803 - recall: 0.5638\n",
            "Epoch 2/50\n",
            "\u001b[1m2411/2411\u001b[0m \u001b[32m━━━━━━━━━━━━━━━━━━━━\u001b[0m\u001b[37m\u001b[0m \u001b[1m55s\u001b[0m 23ms/step - accuracy: 0.8719 - loss: 0.3303 - precision: 0.7574 - recall: 0.5483\n",
            "Epoch 3/50\n",
            "\u001b[1m2411/2411\u001b[0m \u001b[32m━━━━━━━━━━━━━━━━━━━━\u001b[0m\u001b[37m\u001b[0m \u001b[1m54s\u001b[0m 23ms/step - accuracy: 0.8731 - loss: 0.3280 - precision: 0.7625 - recall: 0.5489\n",
            "Epoch 4/50\n",
            "\u001b[1m2411/2411\u001b[0m \u001b[32m━━━━━━━━━━━━━━━━━━━━\u001b[0m\u001b[37m\u001b[0m \u001b[1m54s\u001b[0m 23ms/step - accuracy: 0.8730 - loss: 0.3265 - precision: 0.7639 - recall: 0.5472\n",
            "Epoch 5/50\n",
            "\u001b[1m2411/2411\u001b[0m \u001b[32m━━━━━━━━━━━━━━━━━━━━\u001b[0m\u001b[37m\u001b[0m \u001b[1m55s\u001b[0m 23ms/step - accuracy: 0.8744 - loss: 0.3241 - precision: 0.7691 - recall: 0.5501\n",
            "Epoch 6/50\n",
            "\u001b[1m2411/2411\u001b[0m \u001b[32m━━━━━━━━━━━━━━━━━━━━\u001b[0m\u001b[37m\u001b[0m \u001b[1m54s\u001b[0m 23ms/step - accuracy: 0.8757 - loss: 0.3227 - precision: 0.7730 - recall: 0.5540\n",
            "Epoch 7/50\n",
            "\u001b[1m2411/2411\u001b[0m \u001b[32m━━━━━━━━━━━━━━━━━━━━\u001b[0m\u001b[37m\u001b[0m \u001b[1m54s\u001b[0m 23ms/step - accuracy: 0.8778 - loss: 0.3201 - precision: 0.7821 - recall: 0.5566\n",
            "Epoch 8/50\n",
            "\u001b[1m2411/2411\u001b[0m \u001b[32m━━━━━━━━━━━━━━━━━━━━\u001b[0m\u001b[37m\u001b[0m \u001b[1m54s\u001b[0m 23ms/step - accuracy: 0.8785 - loss: 0.3179 - precision: 0.7853 - recall: 0.5579\n",
            "Epoch 9/50\n",
            "\u001b[1m2411/2411\u001b[0m \u001b[32m━━━━━━━━━━━━━━━━━━━━\u001b[0m\u001b[37m\u001b[0m \u001b[1m54s\u001b[0m 23ms/step - accuracy: 0.8809 - loss: 0.3145 - precision: 0.7937 - recall: 0.5632\n",
            "Epoch 10/50\n",
            "\u001b[1m2411/2411\u001b[0m \u001b[32m━━━━━━━━━━━━━━━━━━━━\u001b[0m\u001b[37m\u001b[0m \u001b[1m54s\u001b[0m 23ms/step - accuracy: 0.8815 - loss: 0.3118 - precision: 0.7964 - recall: 0.5641\n",
            "Epoch 11/50\n",
            "\u001b[1m2411/2411\u001b[0m \u001b[32m━━━━━━━━━━━━━━━━━━━━\u001b[0m\u001b[37m\u001b[0m \u001b[1m54s\u001b[0m 23ms/step - accuracy: 0.8822 - loss: 0.3089 - precision: 0.8002 - recall: 0.5640\n",
            "Epoch 12/50\n",
            "\u001b[1m2411/2411\u001b[0m \u001b[32m━━━━━━━━━━━━━━━━━━━━\u001b[0m\u001b[37m\u001b[0m \u001b[1m54s\u001b[0m 23ms/step - accuracy: 0.8844 - loss: 0.3055 - precision: 0.8095 - recall: 0.5672\n",
            "Epoch 13/50\n",
            "\u001b[1m2411/2411\u001b[0m \u001b[32m━━━━━━━━━━━━━━━━━━━━\u001b[0m\u001b[37m\u001b[0m \u001b[1m54s\u001b[0m 23ms/step - accuracy: 0.8873 - loss: 0.3016 - precision: 0.8180 - recall: 0.5761\n",
            "Epoch 14/50\n",
            "\u001b[1m2411/2411\u001b[0m \u001b[32m━━━━━━━━━━━━━━━━━━━━\u001b[0m\u001b[37m\u001b[0m \u001b[1m55s\u001b[0m 23ms/step - accuracy: 0.8894 - loss: 0.2977 - precision: 0.8284 - recall: 0.5776\n",
            "Epoch 15/50\n",
            "\u001b[1m2411/2411\u001b[0m \u001b[32m━━━━━━━━━━━━━━━━━━━━\u001b[0m\u001b[37m\u001b[0m \u001b[1m55s\u001b[0m 23ms/step - accuracy: 0.8907 - loss: 0.2933 - precision: 0.8335 - recall: 0.5812\n",
            "Epoch 16/50\n",
            "\u001b[1m2411/2411\u001b[0m \u001b[32m━━━━━━━━━━━━━━━━━━━━\u001b[0m\u001b[37m\u001b[0m \u001b[1m54s\u001b[0m 23ms/step - accuracy: 0.8937 - loss: 0.2891 - precision: 0.8451 - recall: 0.5869\n",
            "Epoch 17/50\n",
            "\u001b[1m2411/2411\u001b[0m \u001b[32m━━━━━━━━━━━━━━━━━━━━\u001b[0m\u001b[37m\u001b[0m \u001b[1m54s\u001b[0m 23ms/step - accuracy: 0.8957 - loss: 0.2853 - precision: 0.8524 - recall: 0.5919\n",
            "Epoch 18/50\n",
            "\u001b[1m2411/2411\u001b[0m \u001b[32m━━━━━━━━━━━━━━━━━━━━\u001b[0m\u001b[37m\u001b[0m \u001b[1m54s\u001b[0m 23ms/step - accuracy: 0.8962 - loss: 0.2831 - precision: 0.8517 - recall: 0.5957\n",
            "Epoch 19/50\n",
            "\u001b[1m2411/2411\u001b[0m \u001b[32m━━━━━━━━━━━━━━━━━━━━\u001b[0m\u001b[37m\u001b[0m \u001b[1m55s\u001b[0m 23ms/step - accuracy: 0.8973 - loss: 0.2807 - precision: 0.8598 - recall: 0.5939\n",
            "Epoch 20/50\n",
            "\u001b[1m2411/2411\u001b[0m \u001b[32m━━━━━━━━━━━━━━━━━━━━\u001b[0m\u001b[37m\u001b[0m \u001b[1m55s\u001b[0m 23ms/step - accuracy: 0.8994 - loss: 0.2769 - precision: 0.8651 - recall: 0.6012\n",
            "Epoch 21/50\n",
            "\u001b[1m2411/2411\u001b[0m \u001b[32m━━━━━━━━━━━━━━━━━━━━\u001b[0m\u001b[37m\u001b[0m \u001b[1m54s\u001b[0m 23ms/step - accuracy: 0.9032 - loss: 0.2714 - precision: 0.8733 - recall: 0.6154\n",
            "Epoch 22/50\n",
            "\u001b[1m2411/2411\u001b[0m \u001b[32m━━━━━━━━━━━━━━━━━━━━\u001b[0m\u001b[37m\u001b[0m \u001b[1m54s\u001b[0m 23ms/step - accuracy: 0.9057 - loss: 0.2657 - precision: 0.8861 - recall: 0.6178\n",
            "Epoch 23/50\n",
            "\u001b[1m2411/2411\u001b[0m \u001b[32m━━━━━━━━━━━━━━━━━━━━\u001b[0m\u001b[37m\u001b[0m \u001b[1m55s\u001b[0m 23ms/step - accuracy: 0.9052 - loss: 0.2652 - precision: 0.8836 - recall: 0.6169\n",
            "Epoch 24/50\n",
            "\u001b[1m2411/2411\u001b[0m \u001b[32m━━━━━━━━━━━━━━━━━━━━\u001b[0m\u001b[37m\u001b[0m \u001b[1m54s\u001b[0m 23ms/step - accuracy: 0.8963 - loss: 0.2835 - precision: 0.8541 - recall: 0.5941\n",
            "Epoch 25/50\n",
            "\u001b[1m2411/2411\u001b[0m \u001b[32m━━━━━━━━━━━━━━━━━━━━\u001b[0m\u001b[37m\u001b[0m \u001b[1m55s\u001b[0m 23ms/step - accuracy: 0.9015 - loss: 0.2753 - precision: 0.8662 - recall: 0.6116\n",
            "Epoch 26/50\n",
            "\u001b[1m2411/2411\u001b[0m \u001b[32m━━━━━━━━━━━━━━━━━━━━\u001b[0m\u001b[37m\u001b[0m \u001b[1m55s\u001b[0m 23ms/step - accuracy: 0.9043 - loss: 0.2689 - precision: 0.8769 - recall: 0.6178\n",
            "Epoch 27/50\n",
            "\u001b[1m2411/2411\u001b[0m \u001b[32m━━━━━━━━━━━━━━━━━━━━\u001b[0m\u001b[37m\u001b[0m \u001b[1m54s\u001b[0m 23ms/step - accuracy: 0.9060 - loss: 0.2639 - precision: 0.8831 - recall: 0.6222\n",
            "Epoch 28/50\n",
            "\u001b[1m2411/2411\u001b[0m \u001b[32m━━━━━━━━━━━━━━━━━━━━\u001b[0m\u001b[37m\u001b[0m \u001b[1m54s\u001b[0m 22ms/step - accuracy: 0.9061 - loss: 0.2654 - precision: 0.8803 - recall: 0.6254\n",
            "Epoch 29/50\n",
            "\u001b[1m2411/2411\u001b[0m \u001b[32m━━━━━━━━━━━━━━━━━━━━\u001b[0m\u001b[37m\u001b[0m \u001b[1m54s\u001b[0m 23ms/step - accuracy: 0.9085 - loss: 0.2567 - precision: 0.8890 - recall: 0.6302\n",
            "Epoch 30/50\n",
            "\u001b[1m2411/2411\u001b[0m \u001b[32m━━━━━━━━━━━━━━━━━━━━\u001b[0m\u001b[37m\u001b[0m \u001b[1m54s\u001b[0m 22ms/step - accuracy: 0.9102 - loss: 0.2543 - precision: 0.8939 - recall: 0.6354\n",
            "Epoch 31/50\n",
            "\u001b[1m2411/2411\u001b[0m \u001b[32m━━━━━━━━━━━━━━━━━━━━\u001b[0m\u001b[37m\u001b[0m \u001b[1m54s\u001b[0m 22ms/step - accuracy: 0.9124 - loss: 0.2507 - precision: 0.8999 - recall: 0.6425\n",
            "Epoch 32/50\n",
            "\u001b[1m2411/2411\u001b[0m \u001b[32m━━━━━━━━━━━━━━━━━━━━\u001b[0m\u001b[37m\u001b[0m \u001b[1m54s\u001b[0m 22ms/step - accuracy: 0.9097 - loss: 0.2552 - precision: 0.8967 - recall: 0.6300\n",
            "Epoch 33/50\n",
            "\u001b[1m2411/2411\u001b[0m \u001b[32m━━━━━━━━━━━━━━━━━━━━\u001b[0m\u001b[37m\u001b[0m \u001b[1m54s\u001b[0m 22ms/step - accuracy: 0.9103 - loss: 0.2525 - precision: 0.8931 - recall: 0.6370\n",
            "Epoch 34/50\n",
            "\u001b[1m2411/2411\u001b[0m \u001b[32m━━━━━━━━━━━━━━━━━━━━\u001b[0m\u001b[37m\u001b[0m \u001b[1m54s\u001b[0m 22ms/step - accuracy: 0.9118 - loss: 0.2500 - precision: 0.8973 - recall: 0.6412\n",
            "Epoch 35/50\n",
            "\u001b[1m2411/2411\u001b[0m \u001b[32m━━━━━━━━━━━━━━━━━━━━\u001b[0m\u001b[37m\u001b[0m \u001b[1m54s\u001b[0m 23ms/step - accuracy: 0.9140 - loss: 0.2457 - precision: 0.9047 - recall: 0.6472\n",
            "Epoch 36/50\n",
            "\u001b[1m2411/2411\u001b[0m \u001b[32m━━━━━━━━━━━━━━━━━━━━\u001b[0m\u001b[37m\u001b[0m \u001b[1m54s\u001b[0m 23ms/step - accuracy: 0.9161 - loss: 0.2421 - precision: 0.9077 - recall: 0.6559\n",
            "Epoch 37/50\n",
            "\u001b[1m2411/2411\u001b[0m \u001b[32m━━━━━━━━━━━━━━━━━━━━\u001b[0m\u001b[37m\u001b[0m \u001b[1m54s\u001b[0m 22ms/step - accuracy: 0.9162 - loss: 0.2403 - precision: 0.9112 - recall: 0.6531\n",
            "Epoch 38/50\n",
            "\u001b[1m2411/2411\u001b[0m \u001b[32m━━━━━━━━━━━━━━━━━━━━\u001b[0m\u001b[37m\u001b[0m \u001b[1m54s\u001b[0m 22ms/step - accuracy: 0.9160 - loss: 0.2409 - precision: 0.9086 - recall: 0.6545\n",
            "Epoch 39/50\n",
            "\u001b[1m2411/2411\u001b[0m \u001b[32m━━━━━━━━━━━━━━━━━━━━\u001b[0m\u001b[37m\u001b[0m \u001b[1m54s\u001b[0m 22ms/step - accuracy: 0.9147 - loss: 0.2431 - precision: 0.9049 - recall: 0.6505\n",
            "Epoch 40/50\n",
            "\u001b[1m2411/2411\u001b[0m \u001b[32m━━━━━━━━━━━━━━━━━━━━\u001b[0m\u001b[37m\u001b[0m \u001b[1m55s\u001b[0m 23ms/step - accuracy: 0.9173 - loss: 0.2367 - precision: 0.9151 - recall: 0.6563\n",
            "Epoch 41/50\n",
            "\u001b[1m2411/2411\u001b[0m \u001b[32m━━━━━━━━━━━━━━━━━━━━\u001b[0m\u001b[37m\u001b[0m \u001b[1m55s\u001b[0m 23ms/step - accuracy: 0.9183 - loss: 0.2353 - precision: 0.9134 - recall: 0.6630\n",
            "Epoch 42/50\n",
            "\u001b[1m2411/2411\u001b[0m \u001b[32m━━━━━━━━━━━━━━━━━━━━\u001b[0m\u001b[37m\u001b[0m \u001b[1m54s\u001b[0m 23ms/step - accuracy: 0.9203 - loss: 0.2318 - precision: 0.9172 - recall: 0.6699\n",
            "Epoch 43/50\n",
            "\u001b[1m2411/2411\u001b[0m \u001b[32m━━━━━━━━━━━━━━━━━━━━\u001b[0m\u001b[37m\u001b[0m \u001b[1m54s\u001b[0m 23ms/step - accuracy: 0.9188 - loss: 0.2330 - precision: 0.9168 - recall: 0.6623\n",
            "Epoch 44/50\n",
            "\u001b[1m2411/2411\u001b[0m \u001b[32m━━━━━━━━━━━━━━━━━━━━\u001b[0m\u001b[37m\u001b[0m \u001b[1m55s\u001b[0m 23ms/step - accuracy: 0.9204 - loss: 0.2309 - precision: 0.9178 - recall: 0.6698\n",
            "Epoch 45/50\n",
            "\u001b[1m2411/2411\u001b[0m \u001b[32m━━━━━━━━━━━━━━━━━━━━\u001b[0m\u001b[37m\u001b[0m \u001b[1m54s\u001b[0m 23ms/step - accuracy: 0.9160 - loss: 0.2419 - precision: 0.9039 - recall: 0.6585\n",
            "Epoch 46/50\n",
            "\u001b[1m2411/2411\u001b[0m \u001b[32m━━━━━━━━━━━━━━━━━━━━\u001b[0m\u001b[37m\u001b[0m \u001b[1m55s\u001b[0m 23ms/step - accuracy: 0.9205 - loss: 0.2301 - precision: 0.9164 - recall: 0.6719\n",
            "Epoch 47/50\n",
            "\u001b[1m2411/2411\u001b[0m \u001b[32m━━━━━━━━━━━━━━━━━━━━\u001b[0m\u001b[37m\u001b[0m \u001b[1m54s\u001b[0m 23ms/step - accuracy: 0.9213 - loss: 0.2282 - precision: 0.9187 - recall: 0.6741\n",
            "Epoch 48/50\n",
            "\u001b[1m2411/2411\u001b[0m \u001b[32m━━━━━━━━━━━━━━━━━━━━\u001b[0m\u001b[37m\u001b[0m \u001b[1m54s\u001b[0m 23ms/step - accuracy: 0.9195 - loss: 0.2327 - precision: 0.9176 - recall: 0.6655\n",
            "Epoch 49/50\n",
            "\u001b[1m2411/2411\u001b[0m \u001b[32m━━━━━━━━━━━━━━━━━━━━\u001b[0m\u001b[37m\u001b[0m \u001b[1m54s\u001b[0m 23ms/step - accuracy: 0.9217 - loss: 0.2282 - precision: 0.9198 - recall: 0.6754\n",
            "Epoch 50/50\n",
            "\u001b[1m2411/2411\u001b[0m \u001b[32m━━━━━━━━━━━━━━━━━━━━\u001b[0m\u001b[37m\u001b[0m \u001b[1m54s\u001b[0m 23ms/step - accuracy: 0.9227 - loss: 0.2239 - precision: 0.9216 - recall: 0.6790\n",
            "Restoring model weights from the end of the best epoch: 50.\n"
          ]
        },
        {
          "output_type": "execute_result",
          "data": {
            "text/plain": [
              "<keras.src.callbacks.history.History at 0x7e86985aded0>"
            ]
          },
          "metadata": {},
          "execution_count": 15
        }
      ]
    },
    {
      "cell_type": "code",
      "source": [
        "all_labels = []\n",
        "for i,l in test_data:\n",
        "  all_labels.extend(l.numpy())"
      ],
      "metadata": {
        "id": "YyFR9x-_yFYt"
      },
      "execution_count": null,
      "outputs": []
    },
    {
      "cell_type": "code",
      "source": [
        "clean_labels = [int(x) for x in all_labels]"
      ],
      "metadata": {
        "id": "m9pYuSQjyIL5"
      },
      "execution_count": null,
      "outputs": []
    },
    {
      "cell_type": "code",
      "source": [
        "y_pred = model.predict(test_data)"
      ],
      "metadata": {
        "colab": {
          "base_uri": "https://localhost:8080/"
        },
        "id": "ltU5eNVlyK3x",
        "outputId": "13195fe7-4a31-444f-83b2-c553625f6bdb"
      },
      "execution_count": null,
      "outputs": [
        {
          "output_type": "stream",
          "name": "stdout",
          "text": [
            "\u001b[1m314/314\u001b[0m \u001b[32m━━━━━━━━━━━━━━━━━━━━\u001b[0m\u001b[37m\u001b[0m \u001b[1m40s\u001b[0m 102ms/step\n"
          ]
        }
      ]
    },
    {
      "cell_type": "code",
      "source": [
        "y_pred_labels = (y_pred > 0.5).astype(int).flatten()\n"
      ],
      "metadata": {
        "id": "Ev6P4h5WyN6n"
      },
      "execution_count": null,
      "outputs": []
    },
    {
      "cell_type": "code",
      "source": [
        "from sklearn.metrics import confusion_matrix,precision_score,recall_score,f1_score,accuracy_score"
      ],
      "metadata": {
        "id": "FN-P9dutyQZy"
      },
      "execution_count": null,
      "outputs": []
    },
    {
      "cell_type": "code",
      "source": [
        "accuracy_score(clean_labels,y_pred_labels)"
      ],
      "metadata": {
        "colab": {
          "base_uri": "https://localhost:8080/"
        },
        "id": "CnnNaKnCyS6O",
        "outputId": "b60c94a5-8d98-4731-be50-9b60d0a242d4"
      },
      "execution_count": null,
      "outputs": [
        {
          "output_type": "execute_result",
          "data": {
            "text/plain": [
              "0.6634478982603719"
            ]
          },
          "metadata": {},
          "execution_count": 21
        }
      ]
    },
    {
      "cell_type": "code",
      "source": [
        "recall_score(clean_labels,y_pred_labels)"
      ],
      "metadata": {
        "colab": {
          "base_uri": "https://localhost:8080/"
        },
        "id": "CejAc5fJyVW7",
        "outputId": "c916ba14-6228-4db7-b26f-46497f29c2e3"
      },
      "execution_count": null,
      "outputs": [
        {
          "output_type": "execute_result",
          "data": {
            "text/plain": [
              "0.2208732057416268"
            ]
          },
          "metadata": {},
          "execution_count": 22
        }
      ]
    },
    {
      "cell_type": "code",
      "source": [
        "precision_score(clean_labels,y_pred_labels)"
      ],
      "metadata": {
        "colab": {
          "base_uri": "https://localhost:8080/"
        },
        "id": "7TYN-T71yYU6",
        "outputId": "e4fef099-8be7-4aab-c2fc-6cf839438c0b"
      },
      "execution_count": null,
      "outputs": [
        {
          "output_type": "execute_result",
          "data": {
            "text/plain": [
              "0.20850271002710027"
            ]
          },
          "metadata": {},
          "execution_count": 23
        }
      ]
    },
    {
      "cell_type": "code",
      "source": [
        "f1_score(clean_labels,y_pred_labels)"
      ],
      "metadata": {
        "colab": {
          "base_uri": "https://localhost:8080/"
        },
        "id": "TDEEQYWoyafl",
        "outputId": "8c87da92-af79-4d68-bf5f-21f30b24fbad"
      },
      "execution_count": null,
      "outputs": [
        {
          "output_type": "execute_result",
          "data": {
            "text/plain": [
              "0.21450975836431227"
            ]
          },
          "metadata": {},
          "execution_count": 24
        }
      ]
    },
    {
      "cell_type": "code",
      "source": [
        "confusion_matrix(clean_labels,y_pred_labels)"
      ],
      "metadata": {
        "colab": {
          "base_uri": "https://localhost:8080/"
        },
        "id": "L8Az6eXSyc7E",
        "outputId": "c5a896cd-f644-42d7-c463-d5906a067266"
      },
      "execution_count": null,
      "outputs": [
        {
          "output_type": "execute_result",
          "data": {
            "text/plain": [
              "array([[49623, 14019],\n",
              "       [13027,  3693]])"
            ]
          },
          "metadata": {},
          "execution_count": 25
        }
      ]
    },
    {
      "cell_type": "code",
      "source": [],
      "metadata": {
        "id": "JBx7ZflnQLY7"
      },
      "execution_count": null,
      "outputs": []
    }
  ]
}