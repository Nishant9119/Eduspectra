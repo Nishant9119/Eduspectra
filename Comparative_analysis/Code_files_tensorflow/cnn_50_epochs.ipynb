{
  "nbformat": 4,
  "nbformat_minor": 0,
  "metadata": {
    "colab": {
      "provenance": [],
      "gpuType": "A100"
    },
    "kernelspec": {
      "name": "python3",
      "display_name": "Python 3"
    },
    "language_info": {
      "name": "python"
    },
    "accelerator": "GPU"
  },
  "cells": [
    {
      "cell_type": "code",
      "execution_count": null,
      "metadata": {
        "id": "bGDVjpj2tErX"
      },
      "outputs": [],
      "source": [
        "import tensorflow as tf\n",
        "from tensorflow import keras\n",
        "from keras.utils import image_dataset_from_directory\n",
        "from keras import layers\n",
        "import matplotlib.pyplot as plt\n",
        "from tensorflow.keras.metrics import Precision, Recall\n",
        "import zipfile\n",
        "import os\n",
        "from tensorflow.keras.callbacks import ModelCheckpoint, EarlyStopping\n"
      ]
    },
    {
      "cell_type": "code",
      "source": [
        "with zipfile.ZipFile(\"/content/Dataset.zip\", 'r') as zip_ref:\n",
        "    zip_ref.extractall(\"Dataset\")"
      ],
      "metadata": {
        "id": "9RlgshPZtLa8"
      },
      "execution_count": null,
      "outputs": []
    },
    {
      "cell_type": "code",
      "source": [
        "test_data = image_dataset_from_directory(\"/content/Dataset/Dataset/Test\",image_size = (224,224),batch_size = 128*2)\n"
      ],
      "metadata": {
        "colab": {
          "base_uri": "https://localhost:8080/"
        },
        "id": "rFsDaPnntLc-",
        "outputId": "10f30443-367e-459b-de89-b1e9597aa09d"
      },
      "execution_count": null,
      "outputs": [
        {
          "output_type": "stream",
          "name": "stdout",
          "text": [
            "Found 80362 files belonging to 2 classes.\n"
          ]
        }
      ]
    },
    {
      "cell_type": "code",
      "source": [
        "train_data = image_dataset_from_directory(\"/content/Dataset/Dataset/Train\",image_size = (224,224),batch_size = 50)\n"
      ],
      "metadata": {
        "colab": {
          "base_uri": "https://localhost:8080/"
        },
        "id": "erkCUcw6tLe6",
        "outputId": "c23e3e10-ced0-4a6d-c5cc-6a78824eaf62"
      },
      "execution_count": null,
      "outputs": [
        {
          "output_type": "stream",
          "name": "stdout",
          "text": [
            "Found 120542 files belonging to 2 classes.\n"
          ]
        }
      ]
    },
    {
      "cell_type": "code",
      "source": [
        "inputs = keras.Input(shape= (224,224,3))\n",
        "x = layers.Rescaling(1./255)(inputs)\n",
        "x = layers.Conv2D(filters = 32,kernel_size = 3,activation = \"relu\")(x)\n",
        "x= layers.MaxPooling2D(pool_size = 2)(x)\n",
        "x = layers.Conv2D(filters = 64,kernel_size = 3,activation = \"relu\")(x)\n",
        "x= layers.MaxPooling2D(pool_size = 2)(x)\n",
        "x = layers.Conv2D(filters = 128,kernel_size = 3,activation = \"relu\")(x)\n",
        "x= layers.MaxPooling2D(pool_size = 2)(x)\n",
        "x = layers.Conv2D(filters = 256,kernel_size = 3,activation = \"relu\")(x)\n",
        "x= layers.MaxPooling2D(pool_size = 2)(x)\n",
        "x = layers.Conv2D(filters = 512,kernel_size = 3,activation = \"relu\")(x)\n",
        "x= layers.MaxPooling2D(pool_size = 2)(x)\n",
        "x = layers.Flatten()(x)\n",
        "x = layers.Dense(128,activation = \"relu\")(x)\n",
        "x = layers.Dense(56,activation = \"relu\")(x)\n",
        "x = layers.Dropout(0.3)(x)\n",
        "outputs = layers.Dense(1,activation =\"sigmoid\")(x)\n",
        "model = keras.Model(inputs=inputs, outputs = outputs)"
      ],
      "metadata": {
        "id": "KZ79NgHVtLhC"
      },
      "execution_count": null,
      "outputs": []
    },
    {
      "cell_type": "code",
      "source": [
        "earlystop_cb = EarlyStopping(\n",
        "    monitor='loss',\n",
        "    patience=3,              # Wait for 5 epochs without improvement\n",
        "    restore_best_weights=True,  # Load best weights after stopping\n",
        "    verbose=1\n",
        ")"
      ],
      "metadata": {
        "id": "-l8hA_PRGeif"
      },
      "execution_count": null,
      "outputs": []
    },
    {
      "cell_type": "code",
      "source": [
        "model.compile(optimizer=\"adam\" ,loss =\"binary_crossentropy\",metrics =[\"accuracy\", Precision(name='precision'), Recall(name='recall')])"
      ],
      "metadata": {
        "id": "8rPjg2-CtLjK"
      },
      "execution_count": null,
      "outputs": []
    },
    {
      "cell_type": "code",
      "source": [
        "model.fit(train_data,epochs = 50,callbacks = [earlystop_cb])\n"
      ],
      "metadata": {
        "colab": {
          "base_uri": "https://localhost:8080/"
        },
        "id": "8BUqYJnVtLlV",
        "outputId": "c35ca34f-3829-4fa8-f36a-e7108bc0c82d"
      },
      "execution_count": null,
      "outputs": [
        {
          "output_type": "stream",
          "name": "stdout",
          "text": [
            "Epoch 1/50\n",
            "\u001b[1m2411/2411\u001b[0m \u001b[32m━━━━━━━━━━━━━━━━━━━━\u001b[0m\u001b[37m\u001b[0m \u001b[1m45s\u001b[0m 17ms/step - accuracy: 0.8611 - loss: 0.3570 - precision: 0.7338 - recall: 0.5115\n",
            "Epoch 2/50\n",
            "\u001b[1m2411/2411\u001b[0m \u001b[32m━━━━━━━━━━━━━━━━━━━━\u001b[0m\u001b[37m\u001b[0m \u001b[1m38s\u001b[0m 16ms/step - accuracy: 0.8728 - loss: 0.3313 - precision: 0.7651 - recall: 0.5574\n",
            "Epoch 3/50\n",
            "\u001b[1m2411/2411\u001b[0m \u001b[32m━━━━━━━━━━━━━━━━━━━━\u001b[0m\u001b[37m\u001b[0m \u001b[1m38s\u001b[0m 16ms/step - accuracy: 0.8742 - loss: 0.3285 - precision: 0.7696 - recall: 0.5599\n",
            "Epoch 4/50\n",
            "\u001b[1m2411/2411\u001b[0m \u001b[32m━━━━━━━━━━━━━━━━━━━━\u001b[0m\u001b[37m\u001b[0m \u001b[1m38s\u001b[0m 16ms/step - accuracy: 0.8747 - loss: 0.3267 - precision: 0.7732 - recall: 0.5588\n",
            "Epoch 5/50\n",
            "\u001b[1m2411/2411\u001b[0m \u001b[32m━━━━━━━━━━━━━━━━━━━━\u001b[0m\u001b[37m\u001b[0m \u001b[1m38s\u001b[0m 16ms/step - accuracy: 0.8741 - loss: 0.3255 - precision: 0.7717 - recall: 0.5570\n",
            "Epoch 6/50\n",
            "\u001b[1m2411/2411\u001b[0m \u001b[32m━━━━━━━━━━━━━━━━━━━━\u001b[0m\u001b[37m\u001b[0m \u001b[1m38s\u001b[0m 16ms/step - accuracy: 0.8745 - loss: 0.3250 - precision: 0.7715 - recall: 0.5591\n",
            "Epoch 7/50\n",
            "\u001b[1m2411/2411\u001b[0m \u001b[32m━━━━━━━━━━━━━━━━━━━━\u001b[0m\u001b[37m\u001b[0m \u001b[1m38s\u001b[0m 16ms/step - accuracy: 0.8758 - loss: 0.3230 - precision: 0.7756 - recall: 0.5624\n",
            "Epoch 8/50\n",
            "\u001b[1m2411/2411\u001b[0m \u001b[32m━━━━━━━━━━━━━━━━━━━━\u001b[0m\u001b[37m\u001b[0m \u001b[1m38s\u001b[0m 16ms/step - accuracy: 0.8759 - loss: 0.3228 - precision: 0.7793 - recall: 0.5585\n",
            "Epoch 9/50\n",
            "\u001b[1m2411/2411\u001b[0m \u001b[32m━━━━━━━━━━━━━━━━━━━━\u001b[0m\u001b[37m\u001b[0m \u001b[1m38s\u001b[0m 16ms/step - accuracy: 0.8762 - loss: 0.3212 - precision: 0.7778 - recall: 0.5624\n",
            "Epoch 10/50\n",
            "\u001b[1m2411/2411\u001b[0m \u001b[32m━━━━━━━━━━━━━━━━━━━━\u001b[0m\u001b[37m\u001b[0m \u001b[1m38s\u001b[0m 16ms/step - accuracy: 0.8768 - loss: 0.3205 - precision: 0.7792 - recall: 0.5650\n",
            "Epoch 11/50\n",
            "\u001b[1m2411/2411\u001b[0m \u001b[32m━━━━━━━━━━━━━━━━━━━━\u001b[0m\u001b[37m\u001b[0m \u001b[1m38s\u001b[0m 16ms/step - accuracy: 0.8774 - loss: 0.3191 - precision: 0.7832 - recall: 0.5642\n",
            "Epoch 12/50\n",
            "\u001b[1m2411/2411\u001b[0m \u001b[32m━━━━━━━━━━━━━━━━━━━━\u001b[0m\u001b[37m\u001b[0m \u001b[1m38s\u001b[0m 16ms/step - accuracy: 0.8778 - loss: 0.3186 - precision: 0.7869 - recall: 0.5620\n",
            "Epoch 13/50\n",
            "\u001b[1m2411/2411\u001b[0m \u001b[32m━━━━━━━━━━━━━━━━━━━━\u001b[0m\u001b[37m\u001b[0m \u001b[1m38s\u001b[0m 16ms/step - accuracy: 0.8795 - loss: 0.3169 - precision: 0.7911 - recall: 0.5679\n",
            "Epoch 14/50\n",
            "\u001b[1m2411/2411\u001b[0m \u001b[32m━━━━━━━━━━━━━━━━━━━━\u001b[0m\u001b[37m\u001b[0m \u001b[1m38s\u001b[0m 16ms/step - accuracy: 0.8794 - loss: 0.3151 - precision: 0.7944 - recall: 0.5632\n",
            "Epoch 15/50\n",
            "\u001b[1m2411/2411\u001b[0m \u001b[32m━━━━━━━━━━━━━━━━━━━━\u001b[0m\u001b[37m\u001b[0m \u001b[1m38s\u001b[0m 16ms/step - accuracy: 0.8800 - loss: 0.3132 - precision: 0.7958 - recall: 0.5659\n",
            "Epoch 16/50\n",
            "\u001b[1m2411/2411\u001b[0m \u001b[32m━━━━━━━━━━━━━━━━━━━━\u001b[0m\u001b[37m\u001b[0m \u001b[1m38s\u001b[0m 16ms/step - accuracy: 0.8821 - loss: 0.3113 - precision: 0.8014 - recall: 0.5726\n",
            "Epoch 17/50\n",
            "\u001b[1m2411/2411\u001b[0m \u001b[32m━━━━━━━━━━━━━━━━━━━━\u001b[0m\u001b[37m\u001b[0m \u001b[1m38s\u001b[0m 16ms/step - accuracy: 0.8827 - loss: 0.3087 - precision: 0.8040 - recall: 0.5728\n",
            "Epoch 18/50\n",
            "\u001b[1m2411/2411\u001b[0m \u001b[32m━━━━━━━━━━━━━━━━━━━━\u001b[0m\u001b[37m\u001b[0m \u001b[1m38s\u001b[0m 16ms/step - accuracy: 0.8845 - loss: 0.3063 - precision: 0.8102 - recall: 0.5765\n",
            "Epoch 19/50\n",
            "\u001b[1m2411/2411\u001b[0m \u001b[32m━━━━━━━━━━━━━━━━━━━━\u001b[0m\u001b[37m\u001b[0m \u001b[1m38s\u001b[0m 16ms/step - accuracy: 0.8854 - loss: 0.3027 - precision: 0.8143 - recall: 0.5781\n",
            "Epoch 20/50\n",
            "\u001b[1m2411/2411\u001b[0m \u001b[32m━━━━━━━━━━━━━━━━━━━━\u001b[0m\u001b[37m\u001b[0m \u001b[1m38s\u001b[0m 16ms/step - accuracy: 0.8871 - loss: 0.3003 - precision: 0.8185 - recall: 0.5848\n",
            "Epoch 21/50\n",
            "\u001b[1m2411/2411\u001b[0m \u001b[32m━━━━━━━━━━━━━━━━━━━━\u001b[0m\u001b[37m\u001b[0m \u001b[1m38s\u001b[0m 16ms/step - accuracy: 0.8885 - loss: 0.2979 - precision: 0.8225 - recall: 0.5880\n",
            "Epoch 22/50\n",
            "\u001b[1m2411/2411\u001b[0m \u001b[32m━━━━━━━━━━━━━━━━━━━━\u001b[0m\u001b[37m\u001b[0m \u001b[1m38s\u001b[0m 16ms/step - accuracy: 0.8891 - loss: 0.2953 - precision: 0.8276 - recall: 0.5859\n",
            "Epoch 23/50\n",
            "\u001b[1m2411/2411\u001b[0m \u001b[32m━━━━━━━━━━━━━━━━━━━━\u001b[0m\u001b[37m\u001b[0m \u001b[1m38s\u001b[0m 16ms/step - accuracy: 0.8903 - loss: 0.2931 - precision: 0.8327 - recall: 0.5888\n",
            "Epoch 24/50\n",
            "\u001b[1m2411/2411\u001b[0m \u001b[32m━━━━━━━━━━━━━━━━━━━━\u001b[0m\u001b[37m\u001b[0m \u001b[1m38s\u001b[0m 16ms/step - accuracy: 0.8915 - loss: 0.2901 - precision: 0.8332 - recall: 0.5954\n",
            "Epoch 25/50\n",
            "\u001b[1m2411/2411\u001b[0m \u001b[32m━━━━━━━━━━━━━━━━━━━━\u001b[0m\u001b[37m\u001b[0m \u001b[1m38s\u001b[0m 16ms/step - accuracy: 0.8922 - loss: 0.2877 - precision: 0.8380 - recall: 0.5943\n",
            "Epoch 26/50\n",
            "\u001b[1m2411/2411\u001b[0m \u001b[32m━━━━━━━━━━━━━━━━━━━━\u001b[0m\u001b[37m\u001b[0m \u001b[1m38s\u001b[0m 16ms/step - accuracy: 0.8944 - loss: 0.2854 - precision: 0.8426 - recall: 0.6022\n",
            "Epoch 27/50\n",
            "\u001b[1m2411/2411\u001b[0m \u001b[32m━━━━━━━━━━━━━━━━━━━━\u001b[0m\u001b[37m\u001b[0m \u001b[1m38s\u001b[0m 16ms/step - accuracy: 0.8955 - loss: 0.2828 - precision: 0.8491 - recall: 0.6024\n",
            "Epoch 28/50\n",
            "\u001b[1m2411/2411\u001b[0m \u001b[32m━━━━━━━━━━━━━━━━━━━━\u001b[0m\u001b[37m\u001b[0m \u001b[1m38s\u001b[0m 16ms/step - accuracy: 0.8964 - loss: 0.2792 - precision: 0.8525 - recall: 0.6043\n",
            "Epoch 29/50\n",
            "\u001b[1m2411/2411\u001b[0m \u001b[32m━━━━━━━━━━━━━━━━━━━━\u001b[0m\u001b[37m\u001b[0m \u001b[1m38s\u001b[0m 16ms/step - accuracy: 0.8978 - loss: 0.2773 - precision: 0.8523 - recall: 0.6123\n",
            "Epoch 30/50\n",
            "\u001b[1m2411/2411\u001b[0m \u001b[32m━━━━━━━━━━━━━━━━━━━━\u001b[0m\u001b[37m\u001b[0m \u001b[1m38s\u001b[0m 16ms/step - accuracy: 0.8987 - loss: 0.2742 - precision: 0.8580 - recall: 0.6120\n",
            "Epoch 31/50\n",
            "\u001b[1m2411/2411\u001b[0m \u001b[32m━━━━━━━━━━━━━━━━━━━━\u001b[0m\u001b[37m\u001b[0m \u001b[1m38s\u001b[0m 16ms/step - accuracy: 0.8998 - loss: 0.2715 - precision: 0.8611 - recall: 0.6162\n",
            "Epoch 32/50\n",
            "\u001b[1m2411/2411\u001b[0m \u001b[32m━━━━━━━━━━━━━━━━━━━━\u001b[0m\u001b[37m\u001b[0m \u001b[1m38s\u001b[0m 16ms/step - accuracy: 0.9005 - loss: 0.2712 - precision: 0.8641 - recall: 0.6163\n",
            "Epoch 33/50\n",
            "\u001b[1m2411/2411\u001b[0m \u001b[32m━━━━━━━━━━━━━━━━━━━━\u001b[0m\u001b[37m\u001b[0m \u001b[1m38s\u001b[0m 16ms/step - accuracy: 0.9019 - loss: 0.2679 - precision: 0.8686 - recall: 0.6200\n",
            "Epoch 34/50\n",
            "\u001b[1m2411/2411\u001b[0m \u001b[32m━━━━━━━━━━━━━━━━━━━━\u001b[0m\u001b[37m\u001b[0m \u001b[1m38s\u001b[0m 16ms/step - accuracy: 0.9019 - loss: 0.2683 - precision: 0.8655 - recall: 0.6238\n",
            "Epoch 35/50\n",
            "\u001b[1m2411/2411\u001b[0m \u001b[32m━━━━━━━━━━━━━━━━━━━━\u001b[0m\u001b[37m\u001b[0m \u001b[1m38s\u001b[0m 16ms/step - accuracy: 0.9033 - loss: 0.2647 - precision: 0.8698 - recall: 0.6268\n",
            "Epoch 36/50\n",
            "\u001b[1m2411/2411\u001b[0m \u001b[32m━━━━━━━━━━━━━━━━━━━━\u001b[0m\u001b[37m\u001b[0m \u001b[1m38s\u001b[0m 16ms/step - accuracy: 0.9038 - loss: 0.2646 - precision: 0.8736 - recall: 0.6254\n",
            "Epoch 37/50\n",
            "\u001b[1m2411/2411\u001b[0m \u001b[32m━━━━━━━━━━━━━━━━━━━━\u001b[0m\u001b[37m\u001b[0m \u001b[1m38s\u001b[0m 16ms/step - accuracy: 0.9050 - loss: 0.2626 - precision: 0.8787 - recall: 0.6284\n",
            "Epoch 38/50\n",
            "\u001b[1m2411/2411\u001b[0m \u001b[32m━━━━━━━━━━━━━━━━━━━━\u001b[0m\u001b[37m\u001b[0m \u001b[1m38s\u001b[0m 16ms/step - accuracy: 0.9060 - loss: 0.2595 - precision: 0.8809 - recall: 0.6312\n",
            "Epoch 39/50\n",
            "\u001b[1m2411/2411\u001b[0m \u001b[32m━━━━━━━━━━━━━━━━━━━━\u001b[0m\u001b[37m\u001b[0m \u001b[1m38s\u001b[0m 16ms/step - accuracy: 0.9056 - loss: 0.2594 - precision: 0.8828 - recall: 0.6274\n",
            "Epoch 40/50\n",
            "\u001b[1m2411/2411\u001b[0m \u001b[32m━━━━━━━━━━━━━━━━━━━━\u001b[0m\u001b[37m\u001b[0m \u001b[1m38s\u001b[0m 16ms/step - accuracy: 0.9072 - loss: 0.2552 - precision: 0.8864 - recall: 0.6330\n",
            "Epoch 41/50\n",
            "\u001b[1m2411/2411\u001b[0m \u001b[32m━━━━━━━━━━━━━━━━━━━━\u001b[0m\u001b[37m\u001b[0m \u001b[1m38s\u001b[0m 16ms/step - accuracy: 0.9080 - loss: 0.2552 - precision: 0.8895 - recall: 0.6343\n",
            "Epoch 42/50\n",
            "\u001b[1m2411/2411\u001b[0m \u001b[32m━━━━━━━━━━━━━━━━━━━━\u001b[0m\u001b[37m\u001b[0m \u001b[1m38s\u001b[0m 16ms/step - accuracy: 0.9086 - loss: 0.2523 - precision: 0.8909 - recall: 0.6363\n",
            "Epoch 43/50\n",
            "\u001b[1m2411/2411\u001b[0m \u001b[32m━━━━━━━━━━━━━━━━━━━━\u001b[0m\u001b[37m\u001b[0m \u001b[1m38s\u001b[0m 16ms/step - accuracy: 0.9084 - loss: 0.2527 - precision: 0.8870 - recall: 0.6384\n",
            "Epoch 44/50\n",
            "\u001b[1m2411/2411\u001b[0m \u001b[32m━━━━━━━━━━━━━━━━━━━━\u001b[0m\u001b[37m\u001b[0m \u001b[1m38s\u001b[0m 16ms/step - accuracy: 0.9094 - loss: 0.2511 - precision: 0.8914 - recall: 0.6407\n",
            "Epoch 45/50\n",
            "\u001b[1m2411/2411\u001b[0m \u001b[32m━━━━━━━━━━━━━━━━━━━━\u001b[0m\u001b[37m\u001b[0m \u001b[1m38s\u001b[0m 16ms/step - accuracy: 0.9112 - loss: 0.2468 - precision: 0.8961 - recall: 0.6460\n",
            "Epoch 46/50\n",
            "\u001b[1m2411/2411\u001b[0m \u001b[32m━━━━━━━━━━━━━━━━━━━━\u001b[0m\u001b[37m\u001b[0m \u001b[1m38s\u001b[0m 16ms/step - accuracy: 0.9106 - loss: 0.2490 - precision: 0.8963 - recall: 0.6428\n",
            "Epoch 47/50\n",
            "\u001b[1m2411/2411\u001b[0m \u001b[32m━━━━━━━━━━━━━━━━━━━━\u001b[0m\u001b[37m\u001b[0m \u001b[1m38s\u001b[0m 16ms/step - accuracy: 0.9117 - loss: 0.2455 - precision: 0.9009 - recall: 0.6452\n",
            "Epoch 48/50\n",
            "\u001b[1m2411/2411\u001b[0m \u001b[32m━━━━━━━━━━━━━━━━━━━━\u001b[0m\u001b[37m\u001b[0m \u001b[1m38s\u001b[0m 16ms/step - accuracy: 0.9127 - loss: 0.2437 - precision: 0.9008 - recall: 0.6497\n",
            "Epoch 49/50\n",
            "\u001b[1m2411/2411\u001b[0m \u001b[32m━━━━━━━━━━━━━━━━━━━━\u001b[0m\u001b[37m\u001b[0m \u001b[1m38s\u001b[0m 16ms/step - accuracy: 0.9128 - loss: 0.2440 - precision: 0.9048 - recall: 0.6464\n",
            "Epoch 50/50\n",
            "\u001b[1m2411/2411\u001b[0m \u001b[32m━━━━━━━━━━━━━━━━━━━━\u001b[0m\u001b[37m\u001b[0m \u001b[1m38s\u001b[0m 16ms/step - accuracy: 0.9128 - loss: 0.2438 - precision: 0.9037 - recall: 0.6478\n",
            "Restoring model weights from the end of the best epoch: 49.\n"
          ]
        },
        {
          "output_type": "execute_result",
          "data": {
            "text/plain": [
              "<keras.src.callbacks.history.History at 0x7fe22c3d4150>"
            ]
          },
          "metadata": {},
          "execution_count": 22
        }
      ]
    },
    {
      "cell_type": "code",
      "source": [
        "all_labels = []\n",
        "for i,l in test_data:\n",
        "  all_labels.extend(l.numpy())"
      ],
      "metadata": {
        "id": "3p7VEbEitLpr"
      },
      "execution_count": null,
      "outputs": []
    },
    {
      "cell_type": "code",
      "source": [
        "clean_labels = [int(x) for x in all_labels]"
      ],
      "metadata": {
        "id": "XXjqwMOvtLsB"
      },
      "execution_count": null,
      "outputs": []
    },
    {
      "cell_type": "code",
      "source": [
        "y_pred = model.predict(test_data)"
      ],
      "metadata": {
        "colab": {
          "base_uri": "https://localhost:8080/"
        },
        "id": "GodN2xSJtLt7",
        "outputId": "7ba13332-2571-4910-aeef-e90ff6a30f65"
      },
      "execution_count": null,
      "outputs": [
        {
          "output_type": "stream",
          "name": "stdout",
          "text": [
            "\u001b[1m314/314\u001b[0m \u001b[32m━━━━━━━━━━━━━━━━━━━━\u001b[0m\u001b[37m\u001b[0m \u001b[1m16s\u001b[0m 37ms/step\n"
          ]
        }
      ]
    },
    {
      "cell_type": "code",
      "source": [
        "y_pred_labels = (y_pred > 0.5).astype(int).flatten()\n"
      ],
      "metadata": {
        "id": "VuXATREDtLvu"
      },
      "execution_count": null,
      "outputs": []
    },
    {
      "cell_type": "code",
      "source": [
        "from sklearn.metrics import confusion_matrix,precision_score,recall_score,f1_score,accuracy_score"
      ],
      "metadata": {
        "id": "WNyz61vYtLxx"
      },
      "execution_count": null,
      "outputs": []
    },
    {
      "cell_type": "code",
      "source": [
        "accuracy_score(clean_labels,y_pred_labels)"
      ],
      "metadata": {
        "colab": {
          "base_uri": "https://localhost:8080/"
        },
        "id": "y13o1J3ltL0H",
        "outputId": "ef4769fa-210a-4001-b41b-5ac3378bab97"
      },
      "execution_count": null,
      "outputs": [
        {
          "output_type": "execute_result",
          "data": {
            "text/plain": [
              "0.7081207535900053"
            ]
          },
          "metadata": {},
          "execution_count": 28
        }
      ]
    },
    {
      "cell_type": "code",
      "source": [
        "recall_score(clean_labels,y_pred_labels)"
      ],
      "metadata": {
        "colab": {
          "base_uri": "https://localhost:8080/"
        },
        "id": "uSx6gS9GtL1h",
        "outputId": "762ccc7a-ead3-4036-b748-2fab9282186c"
      },
      "execution_count": null,
      "outputs": [
        {
          "output_type": "execute_result",
          "data": {
            "text/plain": [
              "0.1423444976076555"
            ]
          },
          "metadata": {},
          "execution_count": 29
        }
      ]
    },
    {
      "cell_type": "code",
      "source": [
        "precision_score(clean_labels,y_pred_labels)"
      ],
      "metadata": {
        "colab": {
          "base_uri": "https://localhost:8080/"
        },
        "id": "SmzwEoXXtL5E",
        "outputId": "b0c18bf8-a6e6-415b-89b5-306035f5bb7a"
      },
      "execution_count": null,
      "outputs": [
        {
          "output_type": "execute_result",
          "data": {
            "text/plain": [
              "0.2070285316631872"
            ]
          },
          "metadata": {},
          "execution_count": 30
        }
      ]
    },
    {
      "cell_type": "code",
      "source": [
        "f1_score(clean_labels,y_pred_labels)"
      ],
      "metadata": {
        "colab": {
          "base_uri": "https://localhost:8080/"
        },
        "id": "uKN8OolYteaP",
        "outputId": "e9af55a0-0780-45ec-c012-823eb708bb0e"
      },
      "execution_count": null,
      "outputs": [
        {
          "output_type": "execute_result",
          "data": {
            "text/plain": [
              "0.1686986107173235"
            ]
          },
          "metadata": {},
          "execution_count": 31
        }
      ]
    },
    {
      "cell_type": "code",
      "source": [
        "confusion_matrix(clean_labels,y_pred_labels)"
      ],
      "metadata": {
        "colab": {
          "base_uri": "https://localhost:8080/"
        },
        "id": "POZqcykntf-p",
        "outputId": "ce37931e-7f3b-4999-ca8e-38f1c4d7d0d6"
      },
      "execution_count": null,
      "outputs": [
        {
          "output_type": "execute_result",
          "data": {
            "text/plain": [
              "array([[54526,  9116],\n",
              "       [14340,  2380]])"
            ]
          },
          "metadata": {},
          "execution_count": 32
        }
      ]
    },
    {
      "cell_type": "code",
      "source": [],
      "metadata": {
        "id": "C2uGICABF75P"
      },
      "execution_count": null,
      "outputs": []
    }
  ]
}