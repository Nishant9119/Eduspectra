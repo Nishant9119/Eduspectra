{
  "nbformat": 4,
  "nbformat_minor": 0,
  "metadata": {
    "colab": {
      "provenance": [],
      "gpuType": "L4"
    },
    "kernelspec": {
      "name": "python3",
      "display_name": "Python 3"
    },
    "language_info": {
      "name": "python"
    },
    "accelerator": "GPU"
  },
  "cells": [
    {
      "cell_type": "code",
      "execution_count": null,
      "metadata": {
        "id": "4un3HIOiuX5v"
      },
      "outputs": [],
      "source": [
        "import tensorflow as tf\n",
        "from tensorflow import keras\n",
        "from keras import layers\n",
        "from keras.utils import image_dataset_from_directory\n",
        "import matplotlib.pyplot as plt\n",
        "import zipfile\n",
        "from keras.metrics import Precision, Recall\n"
      ]
    },
    {
      "cell_type": "code",
      "source": [
        "with zipfile.ZipFile(\"/content/Dataset.zip\", 'r') as zip_ref:\n",
        "    zip_ref.extractall(\"Dataset\")"
      ],
      "metadata": {
        "id": "YdvQnuyIvfBi"
      },
      "execution_count": null,
      "outputs": []
    },
    {
      "cell_type": "code",
      "source": [
        "test_data = image_dataset_from_directory(\"/content/Dataset/Dataset/Test\",image_size = (224,224),batch_size = 128*2)\n"
      ],
      "metadata": {
        "colab": {
          "base_uri": "https://localhost:8080/"
        },
        "id": "dX20Zaf5vgjp",
        "outputId": "27fac4bf-a09b-4e1d-8dd2-863881e748b3"
      },
      "execution_count": null,
      "outputs": [
        {
          "output_type": "stream",
          "name": "stdout",
          "text": [
            "Found 80362 files belonging to 2 classes.\n"
          ]
        }
      ]
    },
    {
      "cell_type": "code",
      "source": [
        "train_data = image_dataset_from_directory(\"/content/Dataset/Dataset/Train\",image_size = (224,224),batch_size = 50)\n"
      ],
      "metadata": {
        "colab": {
          "base_uri": "https://localhost:8080/"
        },
        "id": "5bK9jf5qviRP",
        "outputId": "5a939d2f-e4c5-40c7-b57f-2ec10223a298"
      },
      "execution_count": null,
      "outputs": [
        {
          "output_type": "stream",
          "name": "stdout",
          "text": [
            "Found 120542 files belonging to 2 classes.\n"
          ]
        }
      ]
    },
    {
      "cell_type": "code",
      "source": [
        "conv_base = tf.keras.applications.ResNet50(\n",
        "    include_top=False,\n",
        "    weights='imagenet'\n",
        ")\n",
        "conv_base.trainable = False"
      ],
      "metadata": {
        "colab": {
          "base_uri": "https://localhost:8080/"
        },
        "id": "vl_uR_Elvi_r",
        "outputId": "50234086-071f-44cd-f4bf-a773ae61d55a"
      },
      "execution_count": null,
      "outputs": [
        {
          "output_type": "stream",
          "name": "stdout",
          "text": [
            "Downloading data from https://storage.googleapis.com/tensorflow/keras-applications/resnet/resnet50_weights_tf_dim_ordering_tf_kernels_notop.h5\n",
            "\u001b[1m94765736/94765736\u001b[0m \u001b[32m━━━━━━━━━━━━━━━━━━━━\u001b[0m\u001b[37m\u001b[0m \u001b[1m1s\u001b[0m 0us/step\n"
          ]
        }
      ]
    },
    {
      "cell_type": "code",
      "source": [
        "inputs = keras.Input(shape = (224,224,3))\n",
        "x = keras.applications.resnet50.preprocess_input(inputs)\n",
        "x = conv_base(x)\n",
        "x = layers.Flatten()(x)\n",
        "x = layers.Dense(256,activation = \"relu\")(x)\n",
        "x = layers.Dense(128,activation = \"relu\")(x)\n",
        "x  =layers.BatchNormalization()(x)\n",
        "x = layers.Dropout(0.3)(x)\n",
        "outputs = layers.Dense(1,activation = \"sigmoid\")(x)\n",
        "model  = keras.Model(inputs = inputs,outputs = outputs)"
      ],
      "metadata": {
        "id": "_Z_jB74gv6tn"
      },
      "execution_count": null,
      "outputs": []
    },
    {
      "cell_type": "code",
      "source": [
        "model.compile(optimizer=\"adam\" ,loss =\"binary_crossentropy\",metrics =[\"accuracy\", Precision(name='precision'), Recall(name='recall')])"
      ],
      "metadata": {
        "id": "SGiIwwYGwXu7"
      },
      "execution_count": null,
      "outputs": []
    },
    {
      "cell_type": "code",
      "source": [
        "model.fit(train_data,epochs = 5)\n"
      ],
      "metadata": {
        "colab": {
          "base_uri": "https://localhost:8080/"
        },
        "id": "dQDLhTIiwcCD",
        "outputId": "b942022b-df16-4f14-983c-cdb05899369b"
      },
      "execution_count": null,
      "outputs": [
        {
          "output_type": "stream",
          "name": "stdout",
          "text": [
            "Epoch 1/5\n",
            "\u001b[1m2411/2411\u001b[0m \u001b[32m━━━━━━━━━━━━━━━━━━━━\u001b[0m\u001b[37m\u001b[0m \u001b[1m177s\u001b[0m 69ms/step - accuracy: 0.8528 - loss: 0.3797 - precision: 0.6837 - recall: 0.5637\n",
            "Epoch 2/5\n",
            "\u001b[1m2411/2411\u001b[0m \u001b[32m━━━━━━━━━━━━━━━━━━━━\u001b[0m\u001b[37m\u001b[0m \u001b[1m161s\u001b[0m 67ms/step - accuracy: 0.8719 - loss: 0.3310 - precision: 0.7616 - recall: 0.5569\n",
            "Epoch 3/5\n",
            "\u001b[1m2411/2411\u001b[0m \u001b[32m━━━━━━━━━━━━━━━━━━━━\u001b[0m\u001b[37m\u001b[0m \u001b[1m161s\u001b[0m 67ms/step - accuracy: 0.8726 - loss: 0.3282 - precision: 0.7663 - recall: 0.5556\n",
            "Epoch 4/5\n",
            "\u001b[1m2411/2411\u001b[0m \u001b[32m━━━━━━━━━━━━━━━━━━━━\u001b[0m\u001b[37m\u001b[0m \u001b[1m161s\u001b[0m 67ms/step - accuracy: 0.8724 - loss: 0.3271 - precision: 0.7624 - recall: 0.5599\n",
            "Epoch 5/5\n",
            "\u001b[1m2411/2411\u001b[0m \u001b[32m━━━━━━━━━━━━━━━━━━━━\u001b[0m\u001b[37m\u001b[0m \u001b[1m161s\u001b[0m 67ms/step - accuracy: 0.8739 - loss: 0.3246 - precision: 0.7682 - recall: 0.5622\n"
          ]
        },
        {
          "output_type": "execute_result",
          "data": {
            "text/plain": [
              "<keras.src.callbacks.history.History at 0x79028c7a6c90>"
            ]
          },
          "metadata": {},
          "execution_count": 16
        }
      ]
    },
    {
      "cell_type": "code",
      "source": [
        "all_labels = []\n",
        "for i,l in test_data:\n",
        "  all_labels.extend(l.numpy())"
      ],
      "metadata": {
        "id": "7wz51pDIwf7X"
      },
      "execution_count": null,
      "outputs": []
    },
    {
      "cell_type": "code",
      "source": [
        "clean_labels = [int(x) for x in all_labels]"
      ],
      "metadata": {
        "id": "AIudBlXWwjCw"
      },
      "execution_count": null,
      "outputs": []
    },
    {
      "cell_type": "code",
      "source": [
        "y_pred = model.predict(test_data)"
      ],
      "metadata": {
        "colab": {
          "base_uri": "https://localhost:8080/"
        },
        "id": "IFakGttHwjqn",
        "outputId": "d4f167d7-447f-4225-bbea-a3b28d897a2e"
      },
      "execution_count": null,
      "outputs": [
        {
          "output_type": "stream",
          "name": "stdout",
          "text": [
            "\u001b[1m314/314\u001b[0m \u001b[32m━━━━━━━━━━━━━━━━━━━━\u001b[0m\u001b[37m\u001b[0m \u001b[1m140s\u001b[0m 390ms/step\n"
          ]
        }
      ]
    },
    {
      "cell_type": "code",
      "source": [
        "y_pred_labels = (y_pred > 0.5).astype(int).flatten()\n"
      ],
      "metadata": {
        "id": "dl6ySBamwnNo"
      },
      "execution_count": null,
      "outputs": []
    },
    {
      "cell_type": "code",
      "source": [
        "from sklearn.metrics import confusion_matrix,precision_score,recall_score,f1_score,accuracy_score"
      ],
      "metadata": {
        "id": "781aYt7DwrsP"
      },
      "execution_count": null,
      "outputs": []
    },
    {
      "cell_type": "code",
      "source": [
        "accuracy_score(clean_labels,y_pred_labels)"
      ],
      "metadata": {
        "colab": {
          "base_uri": "https://localhost:8080/"
        },
        "id": "2pBCL5YpwpGx",
        "outputId": "9cbcc306-e200-4eee-e02a-7650e831c719"
      },
      "execution_count": null,
      "outputs": [
        {
          "output_type": "execute_result",
          "data": {
            "text/plain": [
              "0.6850999228491078"
            ]
          },
          "metadata": {},
          "execution_count": 22
        }
      ]
    },
    {
      "cell_type": "code",
      "source": [
        "recall_score(clean_labels,y_pred_labels)"
      ],
      "metadata": {
        "colab": {
          "base_uri": "https://localhost:8080/"
        },
        "id": "nYyfIxv9wqHe",
        "outputId": "2104b28e-bca3-4768-caaa-9e69a326da45"
      },
      "execution_count": null,
      "outputs": [
        {
          "output_type": "execute_result",
          "data": {
            "text/plain": [
              "0.18654306220095693"
            ]
          },
          "metadata": {},
          "execution_count": 23
        }
      ]
    },
    {
      "cell_type": "code",
      "source": [
        "precision_score(clean_labels,y_pred_labels)"
      ],
      "metadata": {
        "colab": {
          "base_uri": "https://localhost:8080/"
        },
        "id": "DkR7xQ65wuhM",
        "outputId": "6d465357-b24e-4586-916d-2f7fc080f9cb"
      },
      "execution_count": null,
      "outputs": [
        {
          "output_type": "execute_result",
          "data": {
            "text/plain": [
              "0.2104020507285483"
            ]
          },
          "metadata": {},
          "execution_count": 24
        }
      ]
    },
    {
      "cell_type": "code",
      "source": [
        "f1_score(clean_labels,y_pred_labels)"
      ],
      "metadata": {
        "colab": {
          "base_uri": "https://localhost:8080/"
        },
        "id": "nDl1WcRaww12",
        "outputId": "ecef7d02-da81-445c-890b-391310e8785f"
      },
      "execution_count": null,
      "outputs": [
        {
          "output_type": "execute_result",
          "data": {
            "text/plain": [
              "0.19775551610448897"
            ]
          },
          "metadata": {},
          "execution_count": 25
        }
      ]
    },
    {
      "cell_type": "code",
      "source": [
        "confusion_matrix(clean_labels,y_pred_labels)"
      ],
      "metadata": {
        "colab": {
          "base_uri": "https://localhost:8080/"
        },
        "id": "0pSQrdKSwzAy",
        "outputId": "06f828f7-0a89-4985-cce9-c98afe7b3b35"
      },
      "execution_count": null,
      "outputs": [
        {
          "output_type": "execute_result",
          "data": {
            "text/plain": [
              "array([[51937, 11705],\n",
              "       [13601,  3119]])"
            ]
          },
          "metadata": {},
          "execution_count": 26
        }
      ]
    },
    {
      "cell_type": "code",
      "source": [],
      "metadata": {
        "id": "GG749g3G5A4Y"
      },
      "execution_count": null,
      "outputs": []
    }
  ]
}