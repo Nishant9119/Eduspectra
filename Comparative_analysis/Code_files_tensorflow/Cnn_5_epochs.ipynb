{
  "nbformat": 4,
  "nbformat_minor": 0,
  "metadata": {
    "colab": {
      "provenance": [],
      "gpuType": "L4"
    },
    "kernelspec": {
      "name": "python3",
      "display_name": "Python 3"
    },
    "language_info": {
      "name": "python"
    },
    "accelerator": "GPU"
  },
  "cells": [
    {
      "cell_type": "code",
      "execution_count": null,
      "metadata": {
        "id": "4y6WxZaX3n_2"
      },
      "outputs": [],
      "source": [
        "import tensorflow as tf\n",
        "from tensorflow import keras\n",
        "from keras.utils import image_dataset_from_directory\n",
        "from keras import layers\n",
        "import matplotlib.pyplot as plt\n",
        "from tensorflow.keras.metrics import Precision, Recall\n",
        "import zipfile\n",
        "import os"
      ]
    },
    {
      "cell_type": "code",
      "source": [
        "with zipfile.ZipFile(\"/content/Dataset.zip\", 'r') as zip_ref:\n",
        "    zip_ref.extractall(\"Dataset\")"
      ],
      "metadata": {
        "id": "P9yrpdxrbpnV"
      },
      "execution_count": null,
      "outputs": []
    },
    {
      "cell_type": "code",
      "source": [
        "test_data = image_dataset_from_directory(\"/content/Dataset/Dataset/Test\",image_size = (224,224),batch_size = 128*2)\n"
      ],
      "metadata": {
        "colab": {
          "base_uri": "https://localhost:8080/"
        },
        "id": "46TI04prcQKZ",
        "outputId": "790c8fe0-cd67-4ddd-a77e-086771f4c2c7"
      },
      "execution_count": null,
      "outputs": [
        {
          "output_type": "stream",
          "name": "stdout",
          "text": [
            "Found 80362 files belonging to 2 classes.\n"
          ]
        }
      ]
    },
    {
      "cell_type": "code",
      "source": [
        "train_data = image_dataset_from_directory(\"/content/Dataset/Dataset/Train\",image_size = (224,224),batch_size = 50)\n"
      ],
      "metadata": {
        "colab": {
          "base_uri": "https://localhost:8080/"
        },
        "id": "MDg6h2Sz45E7",
        "outputId": "8ffb8a18-9506-4c1a-f852-f42adc78422b"
      },
      "execution_count": null,
      "outputs": [
        {
          "output_type": "stream",
          "name": "stdout",
          "text": [
            "Found 120542 files belonging to 2 classes.\n"
          ]
        }
      ]
    },
    {
      "cell_type": "markdown",
      "source": [
        "**Training for 5 epochs**"
      ],
      "metadata": {
        "id": "rkx_vOAArMIy"
      }
    },
    {
      "cell_type": "code",
      "source": [
        "inputs = keras.Input(shape= (224,224,3))\n",
        "x = layers.Rescaling(1./255)(inputs)\n",
        "x = layers.Conv2D(filters = 32,kernel_size = 3,activation = \"relu\")(x)\n",
        "x= layers.MaxPooling2D(pool_size = 2)(x)\n",
        "x = layers.Conv2D(filters = 64,kernel_size = 3,activation = \"relu\")(x)\n",
        "x= layers.MaxPooling2D(pool_size = 2)(x)\n",
        "x = layers.Conv2D(filters = 128,kernel_size = 3,activation = \"relu\")(x)\n",
        "x= layers.MaxPooling2D(pool_size = 2)(x)\n",
        "x = layers.Conv2D(filters = 256,kernel_size = 3,activation = \"relu\")(x)\n",
        "x= layers.MaxPooling2D(pool_size = 2)(x)\n",
        "x = layers.Conv2D(filters = 512,kernel_size = 3,activation = \"relu\")(x)\n",
        "x= layers.MaxPooling2D(pool_size = 2)(x)\n",
        "x = layers.Flatten()(x)\n",
        "x = layers.Dense(128,activation = \"relu\")(x)\n",
        "x = layers.Dense(56,activation = \"relu\")(x)\n",
        "x = layers.Dropout(0.3)(x)\n",
        "outputs = layers.Dense(1,activation =\"sigmoid\")(x)\n",
        "model = keras.Model(inputs=inputs, outputs = outputs)"
      ],
      "metadata": {
        "id": "wx41C5nA4sHq"
      },
      "execution_count": null,
      "outputs": []
    },
    {
      "cell_type": "code",
      "source": [
        "model.compile(optimizer=\"adam\" ,loss =\"binary_crossentropy\",metrics =[\"accuracy\", Precision(name='precision'), Recall(name='recall')])"
      ],
      "metadata": {
        "id": "4CJtMACW40Hv"
      },
      "execution_count": null,
      "outputs": []
    },
    {
      "cell_type": "code",
      "source": [
        "model.fit(train_data,epochs = 5)\n"
      ],
      "metadata": {
        "colab": {
          "base_uri": "https://localhost:8080/"
        },
        "id": "2vpnlvn74_7C",
        "outputId": "f296c9a1-8722-4b61-b84d-4ec67044bec4"
      },
      "execution_count": null,
      "outputs": [
        {
          "output_type": "stream",
          "name": "stdout",
          "text": [
            "Epoch 1/5\n",
            "\u001b[1m2411/2411\u001b[0m \u001b[32m━━━━━━━━━━━━━━━━━━━━\u001b[0m\u001b[37m\u001b[0m \u001b[1m140s\u001b[0m 56ms/step - accuracy: 0.8624 - loss: 0.3543 - precision: 0.7326 - recall: 0.5300\n",
            "Epoch 2/5\n",
            "\u001b[1m2411/2411\u001b[0m \u001b[32m━━━━━━━━━━━━━━━━━━━━\u001b[0m\u001b[37m\u001b[0m \u001b[1m128s\u001b[0m 53ms/step - accuracy: 0.8736 - loss: 0.3299 - precision: 0.7685 - recall: 0.5534\n",
            "Epoch 3/5\n",
            "\u001b[1m2411/2411\u001b[0m \u001b[32m━━━━━━━━━━━━━━━━━━━━\u001b[0m\u001b[37m\u001b[0m \u001b[1m128s\u001b[0m 53ms/step - accuracy: 0.8750 - loss: 0.3259 - precision: 0.7732 - recall: 0.5566\n",
            "Epoch 4/5\n",
            "\u001b[1m2411/2411\u001b[0m \u001b[32m━━━━━━━━━━━━━━━━━━━━\u001b[0m\u001b[37m\u001b[0m \u001b[1m128s\u001b[0m 53ms/step - accuracy: 0.8754 - loss: 0.3241 - precision: 0.7743 - recall: 0.5583\n",
            "Epoch 5/5\n",
            "\u001b[1m2411/2411\u001b[0m \u001b[32m━━━━━━━━━━━━━━━━━━━━\u001b[0m\u001b[37m\u001b[0m \u001b[1m128s\u001b[0m 53ms/step - accuracy: 0.8765 - loss: 0.3229 - precision: 0.7783 - recall: 0.5601\n"
          ]
        },
        {
          "output_type": "execute_result",
          "data": {
            "text/plain": [
              "<keras.src.callbacks.history.History at 0x798d011e0650>"
            ]
          },
          "metadata": {},
          "execution_count": 15
        }
      ]
    },
    {
      "cell_type": "code",
      "source": [
        "test_data.class_names"
      ],
      "metadata": {
        "colab": {
          "base_uri": "https://localhost:8080/"
        },
        "id": "jbjnYHXofwmJ",
        "outputId": "d346a853-2fe5-4700-d9a6-89773bd587ea"
      },
      "execution_count": null,
      "outputs": [
        {
          "output_type": "execute_result",
          "data": {
            "text/plain": [
              "['Dropouts', 'NonDropouts']"
            ]
          },
          "metadata": {},
          "execution_count": 16
        }
      ]
    },
    {
      "cell_type": "code",
      "source": [
        "all_labels = []\n",
        "for i,l in test_data:\n",
        "  all_labels.extend(l.numpy())\n"
      ],
      "metadata": {
        "id": "YrZ3sLXEcqd0"
      },
      "execution_count": null,
      "outputs": []
    },
    {
      "cell_type": "code",
      "source": [
        "clean_labels = [int(x) for x in all_labels]"
      ],
      "metadata": {
        "id": "_lgWg9eihrDF"
      },
      "execution_count": null,
      "outputs": []
    },
    {
      "cell_type": "code",
      "source": [
        "y_pred = model.predict(test_data)"
      ],
      "metadata": {
        "colab": {
          "base_uri": "https://localhost:8080/"
        },
        "id": "xUS7lOf2ftNk",
        "outputId": "c0167ce1-7091-4439-f776-9ba012fcc684"
      },
      "execution_count": null,
      "outputs": [
        {
          "output_type": "stream",
          "name": "stdout",
          "text": [
            "\u001b[1m314/314\u001b[0m \u001b[32m━━━━━━━━━━━━━━━━━━━━\u001b[0m\u001b[37m\u001b[0m \u001b[1m30s\u001b[0m 95ms/step\n"
          ]
        }
      ]
    },
    {
      "cell_type": "code",
      "source": [
        "from sklearn.metrics import confusion_matrix,precision_score,recall_score,f1_score,accuracy_score"
      ],
      "metadata": {
        "id": "POAelVSNgjfz"
      },
      "execution_count": null,
      "outputs": []
    },
    {
      "cell_type": "code",
      "source": [
        "y_pred_labels = (y_pred > 0.5).astype(int).flatten()\n"
      ],
      "metadata": {
        "id": "6R8NNUF3qM-x"
      },
      "execution_count": null,
      "outputs": []
    },
    {
      "cell_type": "code",
      "source": [
        "accuracy_score(clean_labels,y_pred_labels)"
      ],
      "metadata": {
        "colab": {
          "base_uri": "https://localhost:8080/"
        },
        "id": "nNRno2OvqF4L",
        "outputId": "ae21bfc1-a0eb-4163-c518-d3332ebf25f0"
      },
      "execution_count": null,
      "outputs": [
        {
          "output_type": "execute_result",
          "data": {
            "text/plain": [
              "0.6924790323784873"
            ]
          },
          "metadata": {},
          "execution_count": 26
        }
      ]
    },
    {
      "cell_type": "code",
      "source": [
        "recall_score(clean_labels,y_pred_labels)"
      ],
      "metadata": {
        "colab": {
          "base_uri": "https://localhost:8080/"
        },
        "id": "8CM3HTgyqZff",
        "outputId": "76ea6b85-d722-44b1-ed55-525fe77625e7"
      },
      "execution_count": null,
      "outputs": [
        {
          "output_type": "execute_result",
          "data": {
            "text/plain": [
              "0.17386363636363636"
            ]
          },
          "metadata": {},
          "execution_count": 27
        }
      ]
    },
    {
      "cell_type": "code",
      "source": [
        "precision_score(clean_labels,y_pred_labels)"
      ],
      "metadata": {
        "colab": {
          "base_uri": "https://localhost:8080/"
        },
        "id": "N_nMuO_iqkcr",
        "outputId": "52eea4f9-4324-462a-cc32-7af04422cd7d"
      },
      "execution_count": null,
      "outputs": [
        {
          "output_type": "execute_result",
          "data": {
            "text/plain": [
              "0.21054537553414934"
            ]
          },
          "metadata": {},
          "execution_count": 28
        }
      ]
    },
    {
      "cell_type": "code",
      "source": [
        "f1_score(clean_labels,y_pred_labels)"
      ],
      "metadata": {
        "colab": {
          "base_uri": "https://localhost:8080/"
        },
        "id": "Z_PrxQonqpNw",
        "outputId": "cc977881-68d5-4358-b75e-c7185eecb25a"
      },
      "execution_count": null,
      "outputs": [
        {
          "output_type": "execute_result",
          "data": {
            "text/plain": [
              "0.19045435188521637"
            ]
          },
          "metadata": {},
          "execution_count": 29
        }
      ]
    },
    {
      "cell_type": "code",
      "source": [
        "confusion_matrix(clean_labels,y_pred_labels)"
      ],
      "metadata": {
        "colab": {
          "base_uri": "https://localhost:8080/"
        },
        "id": "XUM705STqrS2",
        "outputId": "f7e6af2a-25c9-40c8-8352-df5282f6fff8"
      },
      "execution_count": null,
      "outputs": [
        {
          "output_type": "execute_result",
          "data": {
            "text/plain": [
              "array([[52742, 10900],\n",
              "       [13813,  2907]])"
            ]
          },
          "metadata": {},
          "execution_count": 30
        }
      ]
    },
    {
      "cell_type": "code",
      "source": [],
      "metadata": {
        "id": "0IK-GwCqquxh"
      },
      "execution_count": null,
      "outputs": []
    }
  ]
}